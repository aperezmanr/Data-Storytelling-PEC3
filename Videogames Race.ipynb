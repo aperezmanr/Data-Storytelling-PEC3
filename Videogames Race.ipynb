{
 "cells": [
  {
   "cell_type": "markdown",
   "id": "e7f32b82",
   "metadata": {},
   "source": [
    "![](images/Header.png)"
   ]
  },
  {
   "cell_type": "markdown",
   "id": "4be8078b",
   "metadata": {},
   "source": [
    "# Guerra de consolas - Visualización de datos - PEC 3\n",
    "### Por Alejandro Pérez Manrique - Mayo 2022\n",
    "\n",
    "![figure1](images/videogame_consoles.jpg)\n",
    "\n",
    "****\n",
    "\n",
    "Uno de los temas más extremadamente debatidos es \"¿Qué consola de videojuegos es mejor?\" o \"¿Qué empresa de videojuegos es mejor?\". Basta con entrar en Twitter y comenzar a indagar que veremos como muchos _\"sonyer\"_ defenderán a _Playstation_ ante los _xboxers_, como los jugadores de PC siempre alardean de su supremacía ante los gráficos y su gran variedad de juegos buenos y baratos, como los _nintenderos_ justifican que ellos son los que verdaderamente se merecen el podio a lo que se considera un gran \"jugón\".\n",
    "\n",
    "Pero al final, lo que vale en este mundo son los números, es por ello que gracias a la página [vgchartz](https://www.vgchartz.com) podemos obtener un _dataset_ sobre ventas de videojuegos por plataformas. En [Kaggle](https://www.kaggle.com/datasets/gregorut/videogamesale) podemos encontrar el conjunto de datos con el que vamos a trabajar. En dicho _dataset_ se refleja las ventas de videojuegos, pero a lo que nosotros nos va a interesar son las ventas globales. Es hora de ver que plataforma de videojuegos es la que más juegos ha vendido, pero sobre todo, veremos también que compañía se alza con la victoria.\n",
    "\n",
    "> **NOTA**: PC no es una compañía como tal, así que la vamos a considerar como una aunque la realidad nos diga lo contrario dado que hay muchos fabricantes que ensamblan ordenadores.\n",
    "\n",
    "## Guerra de consolas - Code\n",
    "****"
   ]
  },
  {
   "cell_type": "code",
   "execution_count": 17,
   "id": "a9314e59",
   "metadata": {},
   "outputs": [],
   "source": [
    "# Importamos librerías\n",
    "import pandas as pd\n",
    "import numpy as np\n",
    "import csv\n",
    "import arrow"
   ]
  },
  {
   "cell_type": "code",
   "execution_count": 18,
   "id": "ea2cafa3",
   "metadata": {},
   "outputs": [
    {
     "data": {
      "text/html": [
       "<div>\n",
       "<style scoped>\n",
       "    .dataframe tbody tr th:only-of-type {\n",
       "        vertical-align: middle;\n",
       "    }\n",
       "\n",
       "    .dataframe tbody tr th {\n",
       "        vertical-align: top;\n",
       "    }\n",
       "\n",
       "    .dataframe thead th {\n",
       "        text-align: right;\n",
       "    }\n",
       "</style>\n",
       "<table border=\"1\" class=\"dataframe\">\n",
       "  <thead>\n",
       "    <tr style=\"text-align: right;\">\n",
       "      <th></th>\n",
       "      <th>Rank</th>\n",
       "      <th>Name</th>\n",
       "      <th>Platform</th>\n",
       "      <th>Year</th>\n",
       "      <th>Genre</th>\n",
       "      <th>Publisher</th>\n",
       "      <th>NA_Sales</th>\n",
       "      <th>EU_Sales</th>\n",
       "      <th>JP_Sales</th>\n",
       "      <th>Other_Sales</th>\n",
       "      <th>Global_Sales</th>\n",
       "    </tr>\n",
       "  </thead>\n",
       "  <tbody>\n",
       "    <tr>\n",
       "      <th>0</th>\n",
       "      <td>1</td>\n",
       "      <td>Wii Sports</td>\n",
       "      <td>Wii</td>\n",
       "      <td>2006.0</td>\n",
       "      <td>Sports</td>\n",
       "      <td>Nintendo</td>\n",
       "      <td>41.49</td>\n",
       "      <td>29.02</td>\n",
       "      <td>3.77</td>\n",
       "      <td>8.46</td>\n",
       "      <td>82.74</td>\n",
       "    </tr>\n",
       "    <tr>\n",
       "      <th>1</th>\n",
       "      <td>2</td>\n",
       "      <td>Super Mario Bros.</td>\n",
       "      <td>NES</td>\n",
       "      <td>1985.0</td>\n",
       "      <td>Platform</td>\n",
       "      <td>Nintendo</td>\n",
       "      <td>29.08</td>\n",
       "      <td>3.58</td>\n",
       "      <td>6.81</td>\n",
       "      <td>0.77</td>\n",
       "      <td>40.24</td>\n",
       "    </tr>\n",
       "    <tr>\n",
       "      <th>2</th>\n",
       "      <td>3</td>\n",
       "      <td>Mario Kart Wii</td>\n",
       "      <td>Wii</td>\n",
       "      <td>2008.0</td>\n",
       "      <td>Racing</td>\n",
       "      <td>Nintendo</td>\n",
       "      <td>15.85</td>\n",
       "      <td>12.88</td>\n",
       "      <td>3.79</td>\n",
       "      <td>3.31</td>\n",
       "      <td>35.82</td>\n",
       "    </tr>\n",
       "    <tr>\n",
       "      <th>3</th>\n",
       "      <td>4</td>\n",
       "      <td>Wii Sports Resort</td>\n",
       "      <td>Wii</td>\n",
       "      <td>2009.0</td>\n",
       "      <td>Sports</td>\n",
       "      <td>Nintendo</td>\n",
       "      <td>15.75</td>\n",
       "      <td>11.01</td>\n",
       "      <td>3.28</td>\n",
       "      <td>2.96</td>\n",
       "      <td>33.00</td>\n",
       "    </tr>\n",
       "    <tr>\n",
       "      <th>4</th>\n",
       "      <td>5</td>\n",
       "      <td>Pokemon Red/Pokemon Blue</td>\n",
       "      <td>GB</td>\n",
       "      <td>1996.0</td>\n",
       "      <td>Role-Playing</td>\n",
       "      <td>Nintendo</td>\n",
       "      <td>11.27</td>\n",
       "      <td>8.89</td>\n",
       "      <td>10.22</td>\n",
       "      <td>1.00</td>\n",
       "      <td>31.37</td>\n",
       "    </tr>\n",
       "  </tbody>\n",
       "</table>\n",
       "</div>"
      ],
      "text/plain": [
       "   Rank                      Name Platform    Year         Genre Publisher  \\\n",
       "0     1                Wii Sports      Wii  2006.0        Sports  Nintendo   \n",
       "1     2         Super Mario Bros.      NES  1985.0      Platform  Nintendo   \n",
       "2     3            Mario Kart Wii      Wii  2008.0        Racing  Nintendo   \n",
       "3     4         Wii Sports Resort      Wii  2009.0        Sports  Nintendo   \n",
       "4     5  Pokemon Red/Pokemon Blue       GB  1996.0  Role-Playing  Nintendo   \n",
       "\n",
       "   NA_Sales  EU_Sales  JP_Sales  Other_Sales  Global_Sales  \n",
       "0     41.49     29.02      3.77         8.46         82.74  \n",
       "1     29.08      3.58      6.81         0.77         40.24  \n",
       "2     15.85     12.88      3.79         3.31         35.82  \n",
       "3     15.75     11.01      3.28         2.96         33.00  \n",
       "4     11.27      8.89     10.22         1.00         31.37  "
      ]
     },
     "execution_count": 18,
     "metadata": {},
     "output_type": "execute_result"
    }
   ],
   "source": [
    "# Lectura del fichero csv\n",
    "df = pd.read_csv('Videogames/vgsales.csv')\n",
    "\n",
    "# Visualizamos las primeras columnas\n",
    "df.head(5)"
   ]
  },
  {
   "cell_type": "code",
   "execution_count": 19,
   "id": "ad981acd",
   "metadata": {},
   "outputs": [
    {
     "name": "stdout",
     "output_type": "stream",
     "text": [
      "<class 'pandas.core.frame.DataFrame'>\n",
      "RangeIndex: 16598 entries, 0 to 16597\n",
      "Data columns (total 11 columns):\n",
      " #   Column        Non-Null Count  Dtype  \n",
      "---  ------        --------------  -----  \n",
      " 0   Rank          16598 non-null  int64  \n",
      " 1   Name          16598 non-null  object \n",
      " 2   Platform      16598 non-null  object \n",
      " 3   Year          16327 non-null  float64\n",
      " 4   Genre         16598 non-null  object \n",
      " 5   Publisher     16540 non-null  object \n",
      " 6   NA_Sales      16598 non-null  float64\n",
      " 7   EU_Sales      16598 non-null  float64\n",
      " 8   JP_Sales      16598 non-null  float64\n",
      " 9   Other_Sales   16598 non-null  float64\n",
      " 10  Global_Sales  16598 non-null  float64\n",
      "dtypes: float64(6), int64(1), object(4)\n",
      "memory usage: 1.4+ MB\n"
     ]
    }
   ],
   "source": [
    "# Información sobre el dataset\n",
    "df.info()"
   ]
  },
  {
   "cell_type": "markdown",
   "id": "2dfc1bc1",
   "metadata": {},
   "source": [
    "Parece que tenemos valores nulos en cuanto al año de publicación. No nos quedará más remedio que eliminar esos registros ya que desconocemos la fecha de publicación y el hecho de realizar la búsqueda de los años puede ser muy laborioso."
   ]
  },
  {
   "cell_type": "code",
   "execution_count": 20,
   "id": "ec4beb53",
   "metadata": {},
   "outputs": [],
   "source": [
    "# Eliminación de nulos.\n",
    "df = df[df['Year'].notna()]"
   ]
  },
  {
   "cell_type": "markdown",
   "id": "92e10c25",
   "metadata": {},
   "source": [
    "### Ventas globales\n",
    "****\n",
    "#### Por plataforma de videojuegos\n",
    "****\n",
    "Comenzaremos por las ventas globales ya que nos darán la información sobre el éxito global de la consola. Luego indagaremos por países."
   ]
  },
  {
   "cell_type": "code",
   "execution_count": 21,
   "id": "24decdb7",
   "metadata": {},
   "outputs": [],
   "source": [
    "# Ordenamos por año\n",
    "df = df.sort_values('Year')\n",
    "\n",
    "# Convertimos columna año a formato fecha\n",
    "df['Year'] = pd.to_datetime(df['Year'], format=\"%Y\")\n",
    "\n",
    "# Nos quedamos con las columnas necesarias\n",
    "df_global_war = df.loc[:, [\"Platform\", \"Year\", \"Global_Sales\"]]\n",
    "\n",
    "# Exportamos nuestro nuevo csv\n",
    "df_global_war.to_csv(\"Videogames/global_war_consoles.csv\",\n",
    "                     encoding=\"utf-8\")"
   ]
  },
  {
   "cell_type": "code",
   "execution_count": 22,
   "id": "c22da1e0",
   "metadata": {},
   "outputs": [],
   "source": [
    "def process_csv(filename):\n",
    "    '''The function aims to obtain a dictionary of\n",
    "    videoconsoles and their global videogame sales.\n",
    "    \n",
    "    The function has as input a .csv file containing the\n",
    "    years, the name of the videoconsole and their videogame sales.\n",
    "    Launch a dictionary separating by platforms, the years they\n",
    "    have appeared and the total videogame sales in this year.\n",
    "    \n",
    "    Argument:\n",
    "    - filename: csv file with data\n",
    "    \n",
    "    Return:\n",
    "    - platforms: Dictionary with sorted data\n",
    "    '''\n",
    "    platforms = {}\n",
    "    dates = []\n",
    "    \n",
    "    with open(filename, 'rt', encoding='utf-8') as f:\n",
    "        csv_reader = csv.DictReader(f)\n",
    "        for row in csv_reader:\n",
    "            platform = row['Platform']\n",
    "            sales = row['Global_Sales']\n",
    "            year = arrow.get(row['Year'], 'YYYY').format('YYYY')\n",
    "            date = f'{year}'\n",
    "            \n",
    "            if platform not in platforms:\n",
    "                platforms[platform] = {}\n",
    "                    \n",
    "            if date not in platforms[platform]:\n",
    "                platforms[platform][date] = float(sales)\n",
    "                    \n",
    "            else:\n",
    "                platforms[platform][date] += float(sales)\n",
    "                \n",
    "            if date not in dates:\n",
    "                dates.insert(0, date)\n",
    "                    \n",
    "    return platforms"
   ]
  },
  {
   "cell_type": "code",
   "execution_count": 23,
   "id": "e48c6c1f",
   "metadata": {},
   "outputs": [
    {
     "data": {
      "text/plain": [
       "Index(['1980', '1981', '1982', '1983', '1984', '1985', '1986', '1987', '1988',\n",
       "       '1989', '1990', '1991', '1992', '1993', '1994', '1995', '1996', '1997',\n",
       "       '1998', '1999', '2000', '2001', '2002', '2003', '2004', '2005', '2006',\n",
       "       '2007', '2008', '2009', '2010', '2011', '2012', '2013', '2014', '2015',\n",
       "       '2016', '2020', '2017'],\n",
       "      dtype='object')"
      ]
     },
     "execution_count": 23,
     "metadata": {},
     "output_type": "execute_result"
    }
   ],
   "source": [
    "# Usamos la función\n",
    "df_global_war = process_csv('Videogames/global_war_consoles.csv')\n",
    "\n",
    "# Convertimos el diccionario en un dataframe\n",
    "df_global = pd.DataFrame(df_global_war)\n",
    "\n",
    "# Transponemos columnas por filas\n",
    "df_global = df_global.transpose()\n",
    "\n",
    "# Comprobamos orden de las columnas\n",
    "df_global.columns"
   ]
  },
  {
   "cell_type": "markdown",
   "id": "23553bcd",
   "metadata": {},
   "source": [
    "Vemos que por algún motivo la últimas dos columnas no están en orden, no es un problema grave, vamos a cambiarles de lugar."
   ]
  },
  {
   "cell_type": "code",
   "execution_count": 24,
   "id": "dacacb4f",
   "metadata": {},
   "outputs": [
    {
     "data": {
      "text/plain": [
       "Index(['1980', '1981', '1982', '1983', '1984', '1985', '1986', '1987', '1988',\n",
       "       '1989', '1990', '1991', '1992', '1993', '1994', '1995', '1996', '1997',\n",
       "       '1998', '1999', '2000', '2001', '2002', '2003', '2004', '2005', '2006',\n",
       "       '2007', '2008', '2009', '2010', '2011', '2012', '2013', '2014', '2015',\n",
       "       '2016', '2017', '2020'],\n",
       "      dtype='object')"
      ]
     },
     "execution_count": 24,
     "metadata": {},
     "output_type": "execute_result"
    }
   ],
   "source": [
    "# Corregimos orden de las columnas\n",
    "last_column = df_global.pop('2020') \n",
    "  \n",
    "# Insertamos de nuevo la columna\n",
    "df_global.insert(38, '2020', last_column)\n",
    "\n",
    "# observamos de nuevo el resultado\n",
    "df_global.columns"
   ]
  },
  {
   "cell_type": "markdown",
   "id": "a04e2fad",
   "metadata": {},
   "source": [
    "El siguiente paso será convertir los valores _string_ a números y realizar la suma acumulada por años."
   ]
  },
  {
   "cell_type": "code",
   "execution_count": 25,
   "id": "12102e55",
   "metadata": {},
   "outputs": [],
   "source": [
    "# Damos valores a los na\n",
    "df_global.fillna(0, inplace=True)\n",
    "\n",
    "# Change data type from str to int\n",
    "df_global = df_global[:].astype('float')\n",
    "\n",
    "# Realizamos sumas acumuladas\n",
    "for i in range(len(df_global.columns)):\n",
    "    if i == 0:\n",
    "        pass\n",
    "    else:\n",
    "        df_global[df_global.columns[i]] = df_global[\n",
    "            df_global.columns[i]] + df_global[df_global.columns[i-1]]"
   ]
  },
  {
   "cell_type": "markdown",
   "id": "e19f5b33",
   "metadata": {},
   "source": [
    "El dataset está preparado para comenzar a elaborar una gráfica dinámica con librerías de Python o enviarlo a _Flourish_."
   ]
  },
  {
   "cell_type": "code",
   "execution_count": 26,
   "id": "d48bed75",
   "metadata": {},
   "outputs": [],
   "source": [
    "# Exportación del dataset listo\n",
    "df_global.to_csv(\"Videogames/global_war_sales.csv\",\n",
    "                     encoding=\"utf-8\")"
   ]
  },
  {
   "cell_type": "markdown",
   "id": "1119c34a",
   "metadata": {},
   "source": [
    "****\n",
    "#### Por empresa\n",
    "****\n",
    "\n",
    "Ahora vamos a añadir algo más de información a nuestro dataset de forma que tengamos las empresas de cada consola y veamos quien tiene la supremacía.\n",
    "\n",
    "Para ello, vamos a añadir una nueva columna en la que vamos a generalizar la empresa de cada una de las plataformas."
   ]
  },
  {
   "cell_type": "code",
   "execution_count": 27,
   "id": "a4413109",
   "metadata": {},
   "outputs": [
    {
     "data": {
      "text/plain": [
       "array(['2600', 'NES', 'PC', 'DS', 'GB', 'SNES', 'GEN', 'GG', 'NG', 'SCD',\n",
       "       'SAT', 'PS', '3DO', 'TG16', 'N64', 'PCFX', 'DC', 'WS', 'PS2',\n",
       "       'GBA', 'XB', 'GC', 'PSP', 'X360', 'PS3', 'Wii', '3DS', 'PSV',\n",
       "       'WiiU', 'PS4', 'XOne'], dtype=object)"
      ]
     },
     "execution_count": 27,
     "metadata": {},
     "output_type": "execute_result"
    }
   ],
   "source": [
    "# Observamos que plataformas tenemos\n",
    "df.Platform.unique()"
   ]
  },
  {
   "cell_type": "markdown",
   "id": "3a492c4e",
   "metadata": {},
   "source": [
    "Para saber que plataforma pertenece a cada empresa habrá que realizar una búsqueda en _Google_, pero para evitar este trabajo vamos a realizar un resumen:\n",
    "\n",
    "- Nintendo: NES, DS, GB, SNES, N64, GBA, GC, Wii, 3DS, WiiU\n",
    "- Playstation: PS, PS2, PSP, PS3, PSV, PS4\n",
    "- Microsoft: XB, X360, XOne\n",
    "- Atari: 2600\n",
    "- SEGA: GEN, GG, SCD, SAT, DC\n",
    "- NEOGEO: NG\n",
    "- Panasonic: 3DO\n",
    "- NEC: TG6, PCFX, WS\n",
    "- PC: PC\n",
    "\n",
    "Teniendo esto claro vamos a tratar de añadir esta información."
   ]
  },
  {
   "cell_type": "code",
   "execution_count": 36,
   "id": "3ee678c2",
   "metadata": {},
   "outputs": [
    {
     "data": {
      "text/html": [
       "<div>\n",
       "<style scoped>\n",
       "    .dataframe tbody tr th:only-of-type {\n",
       "        vertical-align: middle;\n",
       "    }\n",
       "\n",
       "    .dataframe tbody tr th {\n",
       "        vertical-align: top;\n",
       "    }\n",
       "\n",
       "    .dataframe thead th {\n",
       "        text-align: right;\n",
       "    }\n",
       "</style>\n",
       "<table border=\"1\" class=\"dataframe\">\n",
       "  <thead>\n",
       "    <tr style=\"text-align: right;\">\n",
       "      <th></th>\n",
       "      <th>Rank</th>\n",
       "      <th>Name</th>\n",
       "      <th>Platform</th>\n",
       "      <th>Year</th>\n",
       "      <th>Genre</th>\n",
       "      <th>Publisher</th>\n",
       "      <th>NA_Sales</th>\n",
       "      <th>EU_Sales</th>\n",
       "      <th>JP_Sales</th>\n",
       "      <th>Other_Sales</th>\n",
       "      <th>Global_Sales</th>\n",
       "      <th>Brand</th>\n",
       "    </tr>\n",
       "  </thead>\n",
       "  <tbody>\n",
       "    <tr>\n",
       "      <th>6896</th>\n",
       "      <td>6898</td>\n",
       "      <td>Checkers</td>\n",
       "      <td>2600</td>\n",
       "      <td>1980-01-01</td>\n",
       "      <td>Misc</td>\n",
       "      <td>Atari</td>\n",
       "      <td>0.22</td>\n",
       "      <td>0.01</td>\n",
       "      <td>0.0</td>\n",
       "      <td>0.00</td>\n",
       "      <td>0.24</td>\n",
       "      <td>Atari</td>\n",
       "    </tr>\n",
       "    <tr>\n",
       "      <th>2669</th>\n",
       "      <td>2671</td>\n",
       "      <td>Boxing</td>\n",
       "      <td>2600</td>\n",
       "      <td>1980-01-01</td>\n",
       "      <td>Fighting</td>\n",
       "      <td>Activision</td>\n",
       "      <td>0.72</td>\n",
       "      <td>0.04</td>\n",
       "      <td>0.0</td>\n",
       "      <td>0.01</td>\n",
       "      <td>0.77</td>\n",
       "      <td>Atari</td>\n",
       "    </tr>\n",
       "    <tr>\n",
       "      <th>5366</th>\n",
       "      <td>5368</td>\n",
       "      <td>Freeway</td>\n",
       "      <td>2600</td>\n",
       "      <td>1980-01-01</td>\n",
       "      <td>Action</td>\n",
       "      <td>Activision</td>\n",
       "      <td>0.32</td>\n",
       "      <td>0.02</td>\n",
       "      <td>0.0</td>\n",
       "      <td>0.00</td>\n",
       "      <td>0.34</td>\n",
       "      <td>Atari</td>\n",
       "    </tr>\n",
       "    <tr>\n",
       "      <th>1969</th>\n",
       "      <td>1971</td>\n",
       "      <td>Defender</td>\n",
       "      <td>2600</td>\n",
       "      <td>1980-01-01</td>\n",
       "      <td>Misc</td>\n",
       "      <td>Atari</td>\n",
       "      <td>0.99</td>\n",
       "      <td>0.05</td>\n",
       "      <td>0.0</td>\n",
       "      <td>0.01</td>\n",
       "      <td>1.05</td>\n",
       "      <td>Atari</td>\n",
       "    </tr>\n",
       "    <tr>\n",
       "      <th>1766</th>\n",
       "      <td>1768</td>\n",
       "      <td>Kaboom!</td>\n",
       "      <td>2600</td>\n",
       "      <td>1980-01-01</td>\n",
       "      <td>Misc</td>\n",
       "      <td>Activision</td>\n",
       "      <td>1.07</td>\n",
       "      <td>0.07</td>\n",
       "      <td>0.0</td>\n",
       "      <td>0.01</td>\n",
       "      <td>1.15</td>\n",
       "      <td>Atari</td>\n",
       "    </tr>\n",
       "  </tbody>\n",
       "</table>\n",
       "</div>"
      ],
      "text/plain": [
       "      Rank      Name Platform       Year     Genre   Publisher  NA_Sales  \\\n",
       "6896  6898  Checkers     2600 1980-01-01      Misc       Atari      0.22   \n",
       "2669  2671    Boxing     2600 1980-01-01  Fighting  Activision      0.72   \n",
       "5366  5368   Freeway     2600 1980-01-01    Action  Activision      0.32   \n",
       "1969  1971  Defender     2600 1980-01-01      Misc       Atari      0.99   \n",
       "1766  1768   Kaboom!     2600 1980-01-01      Misc  Activision      1.07   \n",
       "\n",
       "      EU_Sales  JP_Sales  Other_Sales  Global_Sales  Brand  \n",
       "6896      0.01       0.0         0.00          0.24  Atari  \n",
       "2669      0.04       0.0         0.01          0.77  Atari  \n",
       "5366      0.02       0.0         0.00          0.34  Atari  \n",
       "1969      0.05       0.0         0.01          1.05  Atari  \n",
       "1766      0.07       0.0         0.01          1.15  Atari  "
      ]
     },
     "execution_count": 36,
     "metadata": {},
     "output_type": "execute_result"
    }
   ],
   "source": [
    "# Añadimos información de las empresas\n",
    "df_completed = df.copy(deep=True)\n",
    "df_completed['Brand'] = None\n",
    "\n",
    "df_completed.loc[df_completed.Platform == 'NES', 'Brand'] = 'Nintendo'\n",
    "df_completed.loc[df_completed.Platform == 'DS', 'Brand'] = 'Nintendo'\n",
    "df_completed.loc[df_completed.Platform == 'GB', 'Brand'] = 'Nintendo'\n",
    "df_completed.loc[df_completed.Platform == 'SNES', 'Brand'] = 'Nintendo'\n",
    "df_completed.loc[df_completed.Platform == 'N64', 'Brand'] = 'Nintendo'\n",
    "df_completed.loc[df_completed.Platform == 'GBA', 'Brand'] = 'Nintendo'\n",
    "df_completed.loc[df_completed.Platform == 'GC', 'Brand'] = 'Nintendo'\n",
    "df_completed.loc[df_completed.Platform == 'Wii', 'Brand'] = 'Nintendo'\n",
    "df_completed.loc[df_completed.Platform == '3DS', 'Brand'] = 'Nintendo'\n",
    "df_completed.loc[df_completed.Platform == 'WiiU', 'Brand'] = 'Nintendo'\n",
    "df_completed.loc[df_completed.Platform == 'PS', 'Brand'] = 'Playstation'\n",
    "df_completed.loc[df_completed.Platform == 'PS2', 'Brand'] = 'Playstation'\n",
    "df_completed.loc[df_completed.Platform == 'PSP', 'Brand'] = 'Playstation'\n",
    "df_completed.loc[df_completed.Platform == 'PS3', 'Brand'] = 'Playstation'\n",
    "df_completed.loc[df_completed.Platform == 'PSV', 'Brand'] = 'Playstation'\n",
    "df_completed.loc[df_completed.Platform == 'PS4', 'Brand'] = 'Playstation'\n",
    "df_completed.loc[df_completed.Platform == '2600', 'Brand'] = 'Atari'\n",
    "df_completed.loc[df_completed.Platform == 'GEN', 'Brand'] = 'SEGA'\n",
    "df_completed.loc[df_completed.Platform == 'GG', 'Brand'] = 'SEGA'\n",
    "df_completed.loc[df_completed.Platform == 'SCD', 'Brand'] = 'SEGA'\n",
    "df_completed.loc[df_completed.Platform == 'SAT', 'Brand'] = 'SEGA'\n",
    "df_completed.loc[df_completed.Platform == 'DC', 'Brand'] = 'SEGA'\n",
    "df_completed.loc[df_completed.Platform == 'NG', 'Brand'] = 'NEOGEO'\n",
    "df_completed.loc[df_completed.Platform == '3DO', 'Brand'] = 'Panasonic'\n",
    "df_completed.loc[df_completed.Platform == 'TG16', 'Brand'] = 'NEC'\n",
    "df_completed.loc[df_completed.Platform == 'PCFX', 'Brand'] = 'NEC'\n",
    "df_completed.loc[df_completed.Platform == 'WS', 'Brand'] = 'NEC'\n",
    "df_completed.loc[df_completed.Platform == 'XB', 'Brand'] = 'Microsoft'\n",
    "df_completed.loc[df_completed.Platform == 'X360', 'Brand'] = 'Microsoft'\n",
    "df_completed.loc[df_completed.Platform == 'XOne', 'Brand'] = 'Microsoft'\n",
    "df_completed.loc[df_completed.Platform == 'PC', 'Brand'] = 'PC'\n",
    "\n",
    "# Observamos primeros registros\n",
    "df_completed.head(5)"
   ]
  },
  {
   "cell_type": "code",
   "execution_count": 38,
   "id": "95c45d2c",
   "metadata": {},
   "outputs": [],
   "source": [
    "# Nos quedamos con las columnas necesarias\n",
    "df_brand_war = df_completed.loc[:, [\"Brand\", \"Year\", \"Global_Sales\"]]\n",
    "\n",
    "# Exportamos nuestro nuevo csv\n",
    "df_brand_war.to_csv(\"Videogames/brand_war_consoles.csv\",\n",
    "                     encoding=\"utf-8\")"
   ]
  },
  {
   "cell_type": "markdown",
   "id": "1abd2c6e",
   "metadata": {},
   "source": [
    "Una vez tenemos la marca de la consola, vamos a realizar los mismos pasos que en el caso de la guerra por plataformas."
   ]
  },
  {
   "cell_type": "code",
   "execution_count": 39,
   "id": "bb535915",
   "metadata": {},
   "outputs": [],
   "source": [
    "def process_csv_brand(filename):\n",
    "    '''The function aims to obtain a dictionary of\n",
    "    videoconsoles and their global videogame sales.\n",
    "    \n",
    "    The function has as input a .csv file containing the\n",
    "    years, the name of the videoconsole and their videogame sales.\n",
    "    Launch a dictionary separating by platforms, the years they\n",
    "    have appeared and the total videogame sales in this year.\n",
    "    \n",
    "    Argument:\n",
    "    - filename: csv file with data\n",
    "    \n",
    "    Return:\n",
    "    - platforms: Dictionary with sorted data\n",
    "    '''\n",
    "    brands = {}\n",
    "    dates = []\n",
    "    \n",
    "    with open(filename, 'rt', encoding='utf-8') as f:\n",
    "        csv_reader = csv.DictReader(f)\n",
    "        for row in csv_reader:\n",
    "            brand = row['Brand']\n",
    "            sales = row['Global_Sales']\n",
    "            year = arrow.get(row['Year'], 'YYYY').format('YYYY')\n",
    "            date = f'{year}'\n",
    "            \n",
    "            if brand not in brands:\n",
    "                brands[brand] = {}\n",
    "                    \n",
    "            if date not in brands[brand]:\n",
    "                brands[brand][date] = float(sales)\n",
    "                    \n",
    "            else:\n",
    "                brands[brand][date] += float(sales)\n",
    "                \n",
    "            if date not in dates:\n",
    "                dates.insert(0, date)\n",
    "                    \n",
    "    return brands"
   ]
  },
  {
   "cell_type": "code",
   "execution_count": 40,
   "id": "7ec52392",
   "metadata": {},
   "outputs": [
    {
     "data": {
      "text/plain": [
       "Index(['1980', '1981', '1982', '1983', '1984', '1985', '1986', '1987', '1988',\n",
       "       '1989', '1990', '1991', '1992', '1993', '1994', '1995', '1996', '1997',\n",
       "       '1998', '1999', '2000', '2001', '2002', '2003', '2004', '2005', '2006',\n",
       "       '2007', '2008', '2009', '2010', '2011', '2012', '2013', '2014', '2015',\n",
       "       '2016', '2020', '2017'],\n",
       "      dtype='object')"
      ]
     },
     "execution_count": 40,
     "metadata": {},
     "output_type": "execute_result"
    }
   ],
   "source": [
    "# Empleamos función anterior\n",
    "df_brand_war = process_csv_brand('Videogames/brand_war_consoles.csv')\n",
    "\n",
    "# Convertimos el diccionario en un dataframe\n",
    "df_brand_war = pd.DataFrame(df_brand_war)\n",
    "\n",
    "# Transponemos columnas por filas\n",
    "df_brand_war = df_brand_war.transpose()\n",
    "\n",
    "# Comprobamos orden de las columnas\n",
    "df_brand_war.columns"
   ]
  },
  {
   "cell_type": "code",
   "execution_count": 41,
   "id": "a0cb48c2",
   "metadata": {},
   "outputs": [
    {
     "data": {
      "text/plain": [
       "Index(['1980', '1981', '1982', '1983', '1984', '1985', '1986', '1987', '1988',\n",
       "       '1989', '1990', '1991', '1992', '1993', '1994', '1995', '1996', '1997',\n",
       "       '1998', '1999', '2000', '2001', '2002', '2003', '2004', '2005', '2006',\n",
       "       '2007', '2008', '2009', '2010', '2011', '2012', '2013', '2014', '2015',\n",
       "       '2016', '2017', '2020'],\n",
       "      dtype='object')"
      ]
     },
     "execution_count": 41,
     "metadata": {},
     "output_type": "execute_result"
    }
   ],
   "source": [
    "# Corregimos orden de las columnas\n",
    "last_column = df_brand_war.pop('2020') \n",
    "  \n",
    "# Insertamos de nuevo la columna\n",
    "df_brand_war.insert(38, '2020', last_column)\n",
    "\n",
    "# observamos de nuevo el resultado\n",
    "df_brand_war.columns"
   ]
  },
  {
   "cell_type": "code",
   "execution_count": 42,
   "id": "8fc54abe",
   "metadata": {},
   "outputs": [],
   "source": [
    "# Damos valores a los na\n",
    "df_brand_war.fillna(0, inplace=True)\n",
    "\n",
    "# Change data type from str to int\n",
    "df_brand_war = df_brand_war[:].astype('float')\n",
    "\n",
    "# Realizamos sumas acumuladas\n",
    "for i in range(len(df_brand_war.columns)):\n",
    "    if i == 0:\n",
    "        pass\n",
    "    else:\n",
    "        df_brand_war[df_brand_war.columns[i]] = df_brand_war[\n",
    "            df_brand_war.columns[i]] + df_brand_war[df_brand_war.columns[i-1]]\n",
    "        \n",
    "# Exportación del dataset listo\n",
    "df_brand_war.to_csv(\"Videogames/brand_war_sales.csv\",\n",
    "                    encoding=\"utf-8\")"
   ]
  }
 ],
 "metadata": {
  "kernelspec": {
   "display_name": "Python 3 (ipykernel)",
   "language": "python",
   "name": "python3"
  },
  "language_info": {
   "codemirror_mode": {
    "name": "ipython",
    "version": 3
   },
   "file_extension": ".py",
   "mimetype": "text/x-python",
   "name": "python",
   "nbconvert_exporter": "python",
   "pygments_lexer": "ipython3",
   "version": "3.9.12"
  }
 },
 "nbformat": 4,
 "nbformat_minor": 5
}
